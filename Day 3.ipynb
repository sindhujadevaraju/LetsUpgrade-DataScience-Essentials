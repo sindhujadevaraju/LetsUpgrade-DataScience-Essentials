{
 "cells": [
  {
   "cell_type": "markdown",
   "metadata": {},
   "source": [
    "### 1. Problem Statement"
   ]
  },
  {
   "cell_type": "markdown",
   "metadata": {},
   "source": [
    "Create a numpy array starting from 2 till 50 with a stepsize of 3"
   ]
  },
  {
   "cell_type": "code",
   "execution_count": 1,
   "metadata": {},
   "outputs": [
    {
     "name": "stdout",
     "output_type": "stream",
     "text": [
      "[ 2  5  8 11 14 17 20 23 26 29 32 35 38 41 44 47 50]\n"
     ]
    }
   ],
   "source": [
    "import numpy as np\n",
    "arr = np.arange(2,51,3)\n",
    "print(arr)"
   ]
  },
  {
   "cell_type": "markdown",
   "metadata": {},
   "source": [
    "### 2. Problem Statement"
   ]
  },
  {
   "cell_type": "raw",
   "metadata": {},
   "source": [
    "Accept two lists of 5 elements each from the user. Convert them to numpy arrays. Concatenate these arrays and print it. Also sort these arrays and print it."
   ]
  },
  {
   "cell_type": "code",
   "execution_count": 9,
   "metadata": {},
   "outputs": [
    {
     "name": "stdout",
     "output_type": "stream",
     "text": [
      "3\n",
      "7\n",
      "5\n",
      "4\n",
      "2\n",
      "Array 1:  [3 7 5 4 2]\n",
      "9\n",
      "2\n",
      "16\n",
      "4\n",
      "1\n",
      "Array 2:  [ 9  2 16  4  1]\n",
      "\n",
      "Concatenated Array is :  [ 3  7  5  4  2  9  2 16  4  1]\n",
      "Sorted Array is :  [ 1  2  2  3  4  4  5  7  9 16]\n"
     ]
    }
   ],
   "source": [
    "list1 = []\n",
    "list2 = []\n",
    "\n",
    "for x in range(5):\n",
    "    num = int(input())\n",
    "    list1.append(num)\n",
    "arr1 = np.array(list1)\n",
    "print(\"Array 1: \", arr1)\n",
    "\n",
    "for y in range(5):\n",
    "    num = int(input())\n",
    "    list2.append(num)\n",
    "arr2 = np.array(list2)  \n",
    "print(\"Array 2: \", arr2)\n",
    "\n",
    "arr3 = np.concatenate((arr1, arr2))\n",
    "print(\"\\nConcatenated Array is : \",arr3)\n",
    "\n",
    "arr4 = np.sort(arr3)\n",
    "print(\"Sorted Array is : \",arr4)"
   ]
  },
  {
   "cell_type": "markdown",
   "metadata": {},
   "source": [
    "### 3. Problem Statement"
   ]
  },
  {
   "cell_type": "raw",
   "metadata": {},
   "source": [
    "Write a code snippet to find the dimensions of a ndarray and its size."
   ]
  },
  {
   "cell_type": "code",
   "execution_count": 12,
   "metadata": {},
   "outputs": [
    {
     "name": "stdout",
     "output_type": "stream",
     "text": [
      "Array : [0 1 2 3 4]\n",
      "Dimesnion :  1\n",
      "Array Size :  5\n"
     ]
    }
   ],
   "source": [
    "arr1 = np.arange(5)\n",
    "print(\"Array :\",arr1)\n",
    "print(\"Dimesnion : \",arr1.ndim)\n",
    "print(\"Array Size : \",arr1.size)"
   ]
  },
  {
   "cell_type": "markdown",
   "metadata": {},
   "source": [
    "### 4. Problem Statement"
   ]
  },
  {
   "cell_type": "raw",
   "metadata": {},
   "source": [
    "How to convert a 1D array into a 2D array? Demonstrate with the help of a code snippet"
   ]
  },
  {
   "cell_type": "code",
   "execution_count": 4,
   "metadata": {},
   "outputs": [
    {
     "name": "stdout",
     "output_type": "stream",
     "text": [
      "[[1 2]\n",
      " [3 4]]\n"
     ]
    }
   ],
   "source": [
    "arr_1d = ([1,2,3,4])\n",
    "arr_2d = np.reshape(arr_1d, (2,2))\n",
    "print(arr_2d)"
   ]
  },
  {
   "cell_type": "markdown",
   "metadata": {},
   "source": [
    "### 5. Problem Statement"
   ]
  },
  {
   "cell_type": "raw",
   "metadata": {},
   "source": [
    "Consider two square numpy arrays. Stack them vertically and horizontally."
   ]
  },
  {
   "cell_type": "code",
   "execution_count": 16,
   "metadata": {},
   "outputs": [
    {
     "name": "stdout",
     "output_type": "stream",
     "text": [
      "Array 1 :  [[10 20]\n",
      " [30 40]]\n",
      "Array 2 :  [[80  0]\n",
      " [60 20]]\n",
      "\n",
      "Vertical Array:\n",
      "  [[10 20]\n",
      " [30 40]\n",
      " [80  0]\n",
      " [60 20]]\n",
      "\n",
      "Horizontal Array:\n",
      "  [[10 20 80  0]\n",
      " [30 40 60 20]]\n"
     ]
    }
   ],
   "source": [
    "arr1 = np.array([[10,20],[30,40]])\n",
    "print(\"Array 1 : \",arr1)\n",
    "arr2 = np.array([[80,0],[60,20]])\n",
    "print(\"Array 2 : \",arr2)\n",
    "\n",
    "ver_arr = np.vstack((arr1,arr2))\n",
    "print(\"\\nVertical Array:\\n \",ver_arr)\n",
    "\n",
    "hor_arr = np.hstack((arr1,arr2))\n",
    "print(\"\\nHorizontal Array:\\n \",hor_arr)\n"
   ]
  },
  {
   "cell_type": "markdown",
   "metadata": {},
   "source": [
    "### 6. Problem Statement"
   ]
  },
  {
   "cell_type": "raw",
   "metadata": {},
   "source": [
    "How to get unique items and counts of unique items?"
   ]
  },
  {
   "cell_type": "code",
   "execution_count": 17,
   "metadata": {},
   "outputs": [
    {
     "name": "stdout",
     "output_type": "stream",
     "text": [
      "[[1 2]\n",
      " [2 2]\n",
      " [4 1]\n",
      " [5 1]\n",
      " [6 1]\n",
      " [7 1]]\n"
     ]
    }
   ],
   "source": [
    "arr = np.array([2,4,2,1,5,1,6,7])\n",
    "\n",
    "(unique, counts) = np.unique(arr, return_counts=True)\n",
    "frequencies = np.asarray((unique, counts)).T\n",
    "\n",
    "print(frequencies)"
   ]
  }
 ],
 "metadata": {
  "kernelspec": {
   "display_name": "Python 3",
   "language": "python",
   "name": "python3"
  },
  "language_info": {
   "codemirror_mode": {
    "name": "ipython",
    "version": 3
   },
   "file_extension": ".py",
   "mimetype": "text/x-python",
   "name": "python",
   "nbconvert_exporter": "python",
   "pygments_lexer": "ipython3",
   "version": "3.7.4"
  }
 },
 "nbformat": 4,
 "nbformat_minor": 2
}
