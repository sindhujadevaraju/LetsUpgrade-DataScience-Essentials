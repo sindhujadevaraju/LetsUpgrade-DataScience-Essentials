{
 "cells": [
  {
   "cell_type": "markdown",
   "metadata": {},
   "source": [
    "### 1. Problem Statement"
   ]
  },
  {
   "cell_type": "raw",
   "metadata": {},
   "source": [
    "Create an empty list. Accept 10 numbers from users and append to the list if it is an even number."
   ]
  },
  {
   "cell_type": "code",
   "execution_count": 3,
   "metadata": {},
   "outputs": [
    {
     "name": "stdout",
     "output_type": "stream",
     "text": [
      "Enter any 10 numbers \n",
      "23\n",
      "34\n",
      "24\n",
      "56\n",
      "67\n",
      "78\n",
      "12\n",
      "23\n",
      "44\n",
      "67\n",
      "The Even numbers are:  [34, 24, 56, 78, 12, 44]\n"
     ]
    }
   ],
   "source": [
    "li = []\n",
    "\n",
    "print(\"Enter any 10 numbers \")\n",
    "for i in range(10):\n",
    "    num = int(input())\n",
    "    li.append(num)\n",
    "    \n",
    "print(\"The Even numbers are: \",[i for i in li if i % 2 == 0])"
   ]
  },
  {
   "cell_type": "markdown",
   "metadata": {},
   "source": [
    "### 2. Problem Statement"
   ]
  },
  {
   "cell_type": "raw",
   "metadata": {},
   "source": [
    "Create a notebook on List Comprehension."
   ]
  },
  {
   "cell_type": "code",
   "execution_count": 7,
   "metadata": {},
   "outputs": [
    {
     "name": "stdout",
     "output_type": "stream",
     "text": [
      "Odd Numbers from the list: [23, 11, 67, 87, 5, 1, 91]\n"
     ]
    }
   ],
   "source": [
    "list1 = [23,11,34,12,67,87,5,1,42,91] \n",
    "  \n",
    "list2 = [] \n",
    "  \n",
    "# Using loop for constructing output list \n",
    "for var in list1: \n",
    "    if var % 2 != 0: \n",
    "        list2.append(var) \n",
    "  \n",
    "print(\"Odd Numbers from the list:\", list2)"
   ]
  },
  {
   "cell_type": "markdown",
   "metadata": {},
   "source": [
    "### 3. Problem Statement"
   ]
  },
  {
   "cell_type": "raw",
   "metadata": {},
   "source": [
    "Given a no n, write a program that generates a dictionary d which contains (i, i*i) where i is from 1 to n (both included)"
   ]
  },
  {
   "cell_type": "code",
   "execution_count": 10,
   "metadata": {},
   "outputs": [
    {
     "name": "stdout",
     "output_type": "stream",
     "text": [
      "Enter a Range: 3\n",
      "{1: 1, 2: 4, 3: 9}\n"
     ]
    }
   ],
   "source": [
    "dict1 = {}\n",
    "num = int(input(\"Enter a Range: \"))\n",
    "\n",
    "output = {i:i*i for i in range(1, num+1)}\n",
    "\n",
    "print(output)"
   ]
  },
  {
   "cell_type": "markdown",
   "metadata": {},
   "source": [
    "### 4. Problem Statement"
   ]
  },
  {
   "cell_type": "raw",
   "metadata": {},
   "source": [
    "Write a program to compute distance between current position and position after a sequence of movement and original point"
   ]
  },
  {
   "cell_type": "code",
   "execution_count": null,
   "metadata": {},
   "outputs": [],
   "source": [
    "pos = {\"x\":0,\"y\":0}\n",
    "# getting movement from user\n",
    "n = int(input())\n",
    "# for loop\n",
    "for i in range (n):\n",
    "    move =  input().split(\" \")      # ACCEPT MOVEMENT COMMAND AND STORE AS A LIST\n",
    "    \n",
    "    if move[0].lower() == \"up\":     # EXTRACT DIRECTION AND COMPARE\n",
    "        pos[\"y\"] += int(move[1])    # INCREMENT/DECREMENT APPROPRIATE CO-ORDINATES\n",
    "    \n",
    "    elif move[0].lower() == \"down\":\n",
    "        pos[\"y\"] -= int(move[1])\n",
    "    \n",
    "    elif move[0].lower() == \"left\":\n",
    "        pos[\"x\"] -= int(move[1])\n",
    "    \n",
    "    elif move[0].lower() == \"right\":\n",
    "        pos[\"x\"] += int(move[1])\n",
    "#  printing the result\n",
    "print(int(round((pos[\"x\"]**2 + pos[\"y\"]**2)**0.5)))   # DISTANCE FROM ORIGIN"
   ]
  },
  {
   "cell_type": "code",
   "execution_count": 8,
   "metadata": {},
   "outputs": [
    {
     "name": "stdout",
     "output_type": "stream",
     "text": [
      "4\n",
      "5 3\n",
      "3 2\n",
      "2\n"
     ]
    },
    {
     "ename": "ValueError",
     "evalue": "not enough values to unpack (expected 2, got 1)",
     "output_type": "error",
     "traceback": [
      "\u001b[1;31m---------------------------------------------------------------------------\u001b[0m",
      "\u001b[1;31mValueError\u001b[0m                                Traceback (most recent call last)",
      "\u001b[1;32m<ipython-input-8-f330f775ed92>\u001b[0m in \u001b[0;36m<module>\u001b[1;34m\u001b[0m\n\u001b[0;32m      9\u001b[0m \u001b[1;33m\u001b[0m\u001b[0m\n\u001b[0;32m     10\u001b[0m     \u001b[1;31m# print(inputValue)\u001b[0m\u001b[1;33m\u001b[0m\u001b[1;33m\u001b[0m\u001b[1;33m\u001b[0m\u001b[0m\n\u001b[1;32m---> 11\u001b[1;33m     \u001b[0mdirection\u001b[0m\u001b[1;33m,\u001b[0m \u001b[0msteps\u001b[0m \u001b[1;33m=\u001b[0m \u001b[0minputValue\u001b[0m\u001b[1;33m.\u001b[0m\u001b[0msplit\u001b[0m\u001b[1;33m(\u001b[0m\u001b[1;33m)\u001b[0m\u001b[1;33m\u001b[0m\u001b[1;33m\u001b[0m\u001b[0m\n\u001b[0m\u001b[0;32m     12\u001b[0m     \u001b[1;31m# print(direction)\u001b[0m\u001b[1;33m\u001b[0m\u001b[1;33m\u001b[0m\u001b[1;33m\u001b[0m\u001b[0m\n\u001b[0;32m     13\u001b[0m \u001b[1;33m\u001b[0m\u001b[0m\n",
      "\u001b[1;31mValueError\u001b[0m: not enough values to unpack (expected 2, got 1)"
     ]
    }
   ],
   "source": [
    "position = {\"x\": 0, \"y\": 0}\n",
    "\n",
    "fixNumber = int(input())\n",
    "for i in range(fixNumber):\n",
    "\n",
    "    inputValue = input()\n",
    "    if not inputValue:\n",
    "        break\n",
    "\n",
    "    # print(inputValue)\n",
    "    direction, steps = inputValue.split()\n",
    "    # print(direction)\n",
    "\n",
    "    if direction == \"UP\":\n",
    "        position[\"y\"] += int(steps)\n",
    "\n",
    "    elif direction == \"DOWN\":\n",
    "        position[\"y\"] -= int(steps)\n",
    "\n",
    "    elif direction == \"LEFT\":\n",
    "        position[\"x\"] -= int(steps)\n",
    "\n",
    "    elif direction == \"RIGHT\":\n",
    "        position[\"x\"] += int(steps)\n",
    "\n",
    "print(int(round((position[\"x\"] ** 2 + position[\"y\"] ** 2) ** 0.5)))  # Formula (x2 + y2)2"
   ]
  }
 ],
 "metadata": {
  "kernelspec": {
   "display_name": "Python 3",
   "language": "python",
   "name": "python3"
  },
  "language_info": {
   "codemirror_mode": {
    "name": "ipython",
    "version": 3
   },
   "file_extension": ".py",
   "mimetype": "text/x-python",
   "name": "python",
   "nbconvert_exporter": "python",
   "pygments_lexer": "ipython3",
   "version": "3.7.4"
  }
 },
 "nbformat": 4,
 "nbformat_minor": 2
}
